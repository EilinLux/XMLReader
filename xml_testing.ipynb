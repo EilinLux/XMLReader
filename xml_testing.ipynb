{
 "cells": [
  {
   "cell_type": "code",
   "execution_count": 13,
   "metadata": {},
   "outputs": [],
   "source": [
    "import xml.etree.ElementTree as ET\n",
    "import pandas as pd\n",
    "import glob\n",
    "import yaml\n",
    "\n",
    "class XMLReader:\n",
    "\n",
    "\n",
    "    def __init__(self, config_file=\"config.yml\"):\n",
    "        \"\"\"\n",
    "        Initializes the XMLReader with a configuration file.\n",
    "\n",
    "        Args:\n",
    "          config_file: The path to the YAML configuration file.\n",
    "        \"\"\"\n",
    "        try:\n",
    "            with open(config_file, 'r') as f:\n",
    "                self.config = yaml.safe_load(f)\n",
    "        except FileNotFoundError:\n",
    "            print(f\"Error: Config file '{config_file}' not found.\")\n",
    "            self.config = None\n",
    "        except yaml.YAMLError:\n",
    "            print(f\"Error: Invalid YAML format in '{config_file}'.\")\n",
    "            self.config = None\n",
    "\n",
    "        if self.config is not None:\n",
    "            self.head_elements = self.config.get('head', [])\n",
    "            self.tracker_element = self.config.get('tracker_element', 'tracker')\n",
    "            self.item_elements = self.config.get('item_elements', [])\n",
    "\n",
    "\n",
    "    # Replicate head_data for each tracker item\n",
    "    def process_tracker(self, data, tracker_element, head_data,  parent_data=None):\n",
    "        tracker_data = {} if parent_data is None else parent_data.copy()\n",
    "        for child in tracker_element:\n",
    "            if child.tag == self.tracker_element:\n",
    "                # Recursive call for nested 'tracker' elements\n",
    "                self.process_tracker(data=data, tracker_element=child,head_data=head_data, parent_data=tracker_data)\n",
    "            elif child.tag in self.item_elements:\n",
    "                tracker_data[child.tag] = child.text.strip() if child.text else None\n",
    "        if tracker_data:  # Only add if tracker_data is not empty\n",
    "            data.append({**head_data, **tracker_data}) # Combine head_data and tracker_data\n",
    "\n",
    "    def read_xml_files(self, filenames):\n",
    "        \"\"\"\n",
    "        Reads multiple XML files and stores the data in a pandas DataFrame.\n",
    "\n",
    "        Args:\n",
    "          filenames: A list of filenames or a glob pattern to match multiple files.\n",
    "\n",
    "        Returns:\n",
    "          pandas.DataFrame: A DataFrame containing the extracted data from all files.\n",
    "        \"\"\"\n",
    "        if self.config is None:\n",
    "            print(\"Error: No valid configuration loaded.\")\n",
    "            return None\n",
    "\n",
    "        all_data = []\n",
    "        for filename in filenames:\n",
    "            try:\n",
    "                # Parse the XML file\n",
    "                tree = ET.parse(filename)\n",
    "                root = tree.getroot()\n",
    "\n",
    "                data = []\n",
    "\n",
    "                # Find and process the 'head' element\n",
    "                head = root.find(\"head\")\n",
    "                if head is not None:\n",
    "                    head_data = {}\n",
    "                    for element in self.head_elements:\n",
    "                        child = head.find(element)\n",
    "                        if child is not None:\n",
    "                            head_data[element] = child.text.strip() if child.text else None\n",
    "\n",
    "\n",
    "                    tracker = root.find(self.tracker_element)\n",
    "                    if tracker is not None:\n",
    "                        self.process_tracker(data, tracker, head_data)\n",
    "\n",
    "                all_data.extend(data)\n",
    "\n",
    "            except FileNotFoundError:\n",
    "                print(f\"Error: File '{filename}' not found.\")\n",
    "            except ET.ParseError:\n",
    "                print(f\"Error: Invalid XML format in '{filename}'.\")\n",
    "\n",
    "\n",
    "        # Create a pandas DataFrame from the extracted data\n",
    "        df = pd.DataFrame(all_data)\n",
    "        return df\n"
   ]
  },
  {
   "cell_type": "code",
   "execution_count": 14,
   "metadata": {},
   "outputs": [
    {
     "name": "stdout",
     "output_type": "stream",
     "text": [
      "['data\\\\xml1.xml', 'data\\\\xml2.xml']\n",
      "              info        date    item value\n",
      "0   First XML file  2024-10-02  Item B    25\n",
      "1   First XML file  2024-10-02  Item A    15\n",
      "2  Second XML file  2024-10-03  Item E    55\n",
      "3  Second XML file  2024-10-03  Item D    45\n",
      "4  Second XML file  2024-10-03  Item C    35\n"
     ]
    }
   ],
   "source": [
    "\n",
    "# Example usage with multiple files and config file:\n",
    "filenames = glob.glob(\"data/*.xml\") # Replace with your XML files\n",
    "\n",
    "print(filenames)\n",
    "reader = XMLReader()  # Uses the default config file \"config.yaml\"\n",
    "df = reader.read_xml_files(filenames)\n",
    "if df is not None:\n",
    "    print(df)"
   ]
  },
  {
   "cell_type": "code",
   "execution_count": 9,
   "metadata": {},
   "outputs": [
    {
     "name": "stdout",
     "output_type": "stream",
     "text": [
      "Files in the current directory:\n",
      "config.yml\n",
      "data\n",
      "xml1.html\n",
      "xml2.html\n",
      "xml3.txt\n",
      "xml_testing.ipynb\n"
     ]
    }
   ],
   "source": [
    "import os\n",
    "\n",
    "def list_files_in_current_directory():\n",
    "  \"\"\"Lists all files in the current directory.\"\"\"\n",
    "  current_directory = os.getcwd()\n",
    "  files = os.listdir(current_directory)\n",
    "  print(\"Files in the current directory:\")\n",
    "  for file in files:\n",
    "    print(file)\n",
    "\n",
    "list_files_in_current_directory()"
   ]
  }
 ],
 "metadata": {
  "kernelspec": {
   "display_name": "base",
   "language": "python",
   "name": "python3"
  },
  "language_info": {
   "codemirror_mode": {
    "name": "ipython",
    "version": 3
   },
   "file_extension": ".py",
   "mimetype": "text/x-python",
   "name": "python",
   "nbconvert_exporter": "python",
   "pygments_lexer": "ipython3",
   "version": "3.11.4"
  }
 },
 "nbformat": 4,
 "nbformat_minor": 2
}
